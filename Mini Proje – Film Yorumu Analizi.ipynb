{
 "cells": [
  {
   "cell_type": "markdown",
   "id": "06c00202-7364-4cf7-8760-20d1fd3e2cbd",
   "metadata": {},
   "source": [
    "# Mini Proje – Film Yorumu Analizi"
   ]
  },
  {
   "cell_type": "markdown",
   "id": "928b920c-6a08-4d08-8d3c-e171cc99c1e4",
   "metadata": {},
   "source": [
    "## Proje Tanımı:\n",
    "### Kullanıcıdan birkaç film yorumu alın (örneğin 5–6 yorum).\n",
    "#### - Yorumları bir listeye atın. \n",
    "#### - Her yorumun uzunluğunu (karakter sayısı) bulun. \n",
    "#### - Kaç yorumda \"iyi\" kelimesi geçtiğini sayın. \n",
    "#### - En uzun yorumu ve en kısa yorumu ekrana yazdırın. \n",
    "#### - Tüm yorumların ortalama uzunluğunu hesaplayın."
   ]
  },
  {
   "cell_type": "code",
   "execution_count": 29,
   "id": "5159984f-9912-482f-a2a6-e52d7ee98ad7",
   "metadata": {},
   "outputs": [
    {
     "name": "stdin",
     "output_type": "stream",
     "text": [
      "1. yorumu giriniz:  harika mutlaka izleyin \n",
      "2. yorumu giriniz:  çok iyi film \n",
      "3. yorumu giriniz:  çok abartıldığını düşünüyorum \n",
      "4. yorumu giriniz:  herkesin izlemesi gereken iyi bir film\n",
      "5. yorumu giriniz:  ortalama bir film \n"
     ]
    },
    {
     "name": "stdout",
     "output_type": "stream",
     "text": [
      "Toplam yorum sayısı: 5\n",
      "\"iyi\" geçen yorum sayısı: 2\n",
      "En uzun yorum: herkesin izlemesi gereken iyi bir film\n",
      "En kısa yorum: çok iyi film \n",
      "Ortalama uzunluk: 24.4 karakter\n"
     ]
    }
   ],
   "source": [
    "# Kullanıcıdan yorumları alalım \n",
    "yorumlar = []\n",
    "for i in range(5): \n",
    "    yorum = input(f\"{i+1}. yorumu giriniz: \")\n",
    "    yorumlar.append(yorum)\n",
    "\n",
    "# Toplam yorum sayısı\n",
    "print(\"Toplam yorum sayısı:\", len(yorumlar))\n",
    "\n",
    "# \"iyi\" geçen yorum sayısı\n",
    "iyi_sayisi = 0\n",
    "for yorum in yorumlar:\n",
    "    if \"iyi\" in yorum.lower():  # büyük/küçük harf farkı olmasın\n",
    "        iyi_sayisi += 1\n",
    "print('\"iyi\" geçen yorum sayısı:', iyi_sayisi)\n",
    "\n",
    "# En uzun ve en kısa yorum\n",
    "en_uzun = max(yorumlar, key=len)\n",
    "en_kisa = min(yorumlar, key=len)\n",
    "print(\"En uzun yorum:\", en_uzun)\n",
    "print(\"En kısa yorum:\", en_kisa)\n",
    "\n",
    "# Ortalama uzunluk\n",
    "toplam_uzunluk = 0\n",
    "for yorum in yorumlar:\n",
    "    toplam_uzunluk += len(yorum)\n",
    "ortalama = toplam_uzunluk / len(yorumlar)\n",
    "print(\"Ortalama uzunluk:\", round(ortalama, 1), \"karakter\")"
   ]
  },
  {
   "cell_type": "code",
   "execution_count": null,
   "id": "c8ce5175-b7d6-4efd-b129-6c1e19310766",
   "metadata": {},
   "outputs": [],
   "source": []
  }
 ],
 "metadata": {
  "kernelspec": {
   "display_name": "Python [conda env:base] *",
   "language": "python",
   "name": "conda-base-py"
  },
  "language_info": {
   "codemirror_mode": {
    "name": "ipython",
    "version": 3
   },
   "file_extension": ".py",
   "mimetype": "text/x-python",
   "name": "python",
   "nbconvert_exporter": "python",
   "pygments_lexer": "ipython3",
   "version": "3.12.7"
  }
 },
 "nbformat": 4,
 "nbformat_minor": 5
}
