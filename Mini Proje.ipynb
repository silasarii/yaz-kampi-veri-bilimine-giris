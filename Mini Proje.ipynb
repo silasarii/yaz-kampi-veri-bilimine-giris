{
 "cells": [
  {
   "cell_type": "markdown",
   "id": "b268e37b-44d0-46ba-8696-9379ff05bd17",
   "metadata": {},
   "source": [
    "# Bölüm 3: Mini Proje "
   ]
  },
  {
   "cell_type": "markdown",
   "id": "722c1062-20e0-4bdd-95f3-0ce607e762bf",
   "metadata": {
    "jp-MarkdownHeadingCollapsed": true
   },
   "source": [
    "### Küçük bir alışveriş sepeti uygulaması yapınız: \n",
    " #### - Kullanıcıdan 3 ürünün fiyatını alınız. \n",
    " #### - Toplam fiyatı hesaplayınız. \n",
    " #### - Eğer toplam fiyat 200 TL’den fazlaysa %10 indirim uygulayınız. \n",
    " #### - Son fiyatı ekrana yazdırınız."
   ]
  },
  {
   "cell_type": "code",
   "execution_count": 34,
   "id": "b756f6dd-32b4-4980-8e9c-c62bbb6e54bc",
   "metadata": {},
   "outputs": [
    {
     "name": "stdin",
     "output_type": "stream",
     "text": [
      "1. ürünün fiyatını giriniz:  58\n",
      "2. ürünün fiyatını giriniz:  43\n",
      "3. ürünün fiyatını giriniz:  90\n"
     ]
    },
    {
     "name": "stdout",
     "output_type": "stream",
     "text": [
      "Toplam: 191 TL (İndirim yok)\n",
      "Ödenecek Tutar: 191 TL\n"
     ]
    }
   ],
   "source": [
    "# Kullanıcıdan 3 ürünün fiyatını alma\n",
    "urun1 = int(input(\"1. ürünün fiyatını giriniz: \"))\n",
    "urun2 = int(input(\"2. ürünün fiyatını giriniz: \"))\n",
    "urun3 = int(input(\"3. ürünün fiyatını giriniz: \"))\n",
    "\n",
    "# Toplam fiyatı hesaplama\n",
    "toplam = urun1 + urun2 + urun3\n",
    "\n",
    "# İndirim kontrolü\n",
    "if toplam > 200:\n",
    "    son_fiyat = toplam - (toplam * 0.10) \n",
    "    print(\"Toplam: {} TL (İndirim uygulandı)\".format(toplam))\n",
    "else:\n",
    "    son_fiyat = toplam\n",
    "    print(\"Toplam: {} TL (İndirim yok)\".format(toplam))\n",
    "\n",
    "# Son fiyatı yazdırma\n",
    "print(\"Ödenecek Tutar: {} TL\".format(son_fiyat))"
   ]
  },
  {
   "cell_type": "markdown",
   "id": "501b6139-f12a-49e8-9eb9-d4c1d8d5a0b1",
   "metadata": {},
   "source": [
    "### Kullanıcıdan doğum yılını alınız. Bu yıl ile güncel yılı kullanarak yaşını hesaplayınız. Yaşına göre şu mesajlardan birini veriniz: \n",
    "#### - 0-12: 'Çocuksunuz' \n",
    "#### - 13-17: 'Ergensiniz' \n",
    "#### - 18 ve üzeri: 'Yetişkinsiniz'"
   ]
  },
  {
   "cell_type": "code",
   "execution_count": 37,
   "id": "c977e3f3-e9cb-4205-a628-0370215be9c6",
   "metadata": {},
   "outputs": [
    {
     "name": "stdin",
     "output_type": "stream",
     "text": [
      "Doğum yılınızı giriniz:  2003\n"
     ]
    },
    {
     "name": "stdout",
     "output_type": "stream",
     "text": [
      "Yaşınız: 22\n",
      "Yetişkinsiniz\n"
     ]
    }
   ],
   "source": [
    "# Güncel yıl\n",
    "guncel_yil = 2025\n",
    "\n",
    "# Kullanıcıdan doğum yılı alıyoruz\n",
    "dogum_yili = int(input(\"Doğum yılınızı giriniz: \"))\n",
    "\n",
    "# Yaş hesaplama\n",
    "yas = guncel_yil - dogum_yili\n",
    "print(\"Yaşınız:\", yas)\n",
    "\n",
    "# Mantıksal karşılaştırmalar\n",
    "if yas >= 0 and yas <= 12:\n",
    "    print(\"Çocuksunuz\")\n",
    "elif yas >= 13 and yas <= 17:\n",
    "    print(\"Ergensiniz\")\n",
    "elif yas >= 18:\n",
    "    print(\"Yetişkinsiniz\")\n",
    "else:\n",
    "    print(\"Geçersiz giriş\")"
   ]
  }
 ],
 "metadata": {
  "kernelspec": {
   "display_name": "Python [conda env:base] *",
   "language": "python",
   "name": "conda-base-py"
  },
  "language_info": {
   "codemirror_mode": {
    "name": "ipython",
    "version": 3
   },
   "file_extension": ".py",
   "mimetype": "text/x-python",
   "name": "python",
   "nbconvert_exporter": "python",
   "pygments_lexer": "ipython3",
   "version": "3.12.7"
  }
 },
 "nbformat": 4,
 "nbformat_minor": 5
}
