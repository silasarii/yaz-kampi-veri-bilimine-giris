{
 "cells": [
  {
   "cell_type": "markdown",
   "id": "10c9d849-3f8e-4dd8-987f-2c2d012a6d17",
   "metadata": {},
   "source": [
    "# Proje – Kitap Satış Analiz Sistemi"
   ]
  },
  {
   "cell_type": "code",
   "execution_count": 8,
   "id": "aab4726b-fcf5-42aa-b15d-e03e21eb0cf2",
   "metadata": {},
   "outputs": [
    {
     "name": "stdout",
     "output_type": "stream",
     "text": [
      "En çok satan kitap: Makine Öğrenmesi\n",
      "Yazar satışları: {'Ali': 3400, 'Ayşe': 1550, 'Can': 1800, 'Deniz': 400}\n"
     ]
    }
   ],
   "source": [
    "kitaplar = [\n",
    "    {\"isim\": \"Veri Bilimi 101\", \"yazar\": \"Ali\", \"tur\": \"Bilim\", \"satis\": 1200, \"yil\": 2021},\n",
    "    {\"isim\": \"Python ile Yapay Zeka\", \"yazar\": \"Ayşe\", \"tur\": \"Bilim\", \"satis\": 950, \"yil\": 2020},\n",
    "    {\"isim\": \"İstatistik Temelleri\", \"yazar\": \"Ali\", \"tur\": \"Akademik\", \"satis\": 700, \"yil\": 2019},\n",
    "    {\"isim\": \"Makine Öğrenmesi\", \"yazar\": \"Can\", \"tur\": \"Bilim\", \"satis\": 1800, \"yil\": 2022},\n",
    "    {\"isim\": \"Veri Görselleştirme\", \"yazar\": \"Deniz\", \"tur\": \"Sanat\", \"satis\": 400, \"yil\": 2018},\n",
    "    {\"isim\": \"Matematiksel Modelleme\", \"yazar\": \"Ali\", \"tur\": \"Akademik\", \"satis\": 1500, \"yil\": 2021},\n",
    "    {\"isim\": \"Bilgi Toplumu\", \"yazar\": \"Ayşe\", \"tur\": \"Sosyal\", \"satis\": 600, \"yil\": 2022}\n",
    "]\n",
    "\n",
    "# En çok satan kitabı döndüren fonksiyon\n",
    "def en_cok_satan(kitaplar):\n",
    "    return max(kitaplar, key=lambda x: x['satis'])\n",
    "\n",
    "# Her yazarın toplam satışını döndüren fonksiyon\n",
    "def yazar_satislari(kitaplar):\n",
    "    toplamlar = {}\n",
    "    for kitap in kitaplar:\n",
    "        toplamlar[kitap['yazar']] = toplamlar.get(kitap['yazar'], 0) + kitap['satis']\n",
    "    return toplamlar\n",
    "\n",
    "print(\"En çok satan kitap:\", en_cok_satan(kitaplar)['isim'])\n",
    "print(\"Yazar satışları:\", yazar_satislari(kitaplar))"
   ]
  },
  {
   "cell_type": "code",
   "execution_count": 10,
   "id": "bbcc7d06-ef4f-4288-a64d-3ad4d66f3fd2",
   "metadata": {},
   "outputs": [
    {
     "name": "stdout",
     "output_type": "stream",
     "text": [
      "Kitap türleri: {'Sosyal', 'Akademik', 'Sanat', 'Bilim'}\n",
      "1000’den fazla satan kitaplar: ['Veri Bilimi 101', 'Makine Öğrenmesi', 'Matematiksel Modelleme']\n"
     ]
    }
   ],
   "source": [
    "# Tüm kitap türleri (tekrarsız)\n",
    "turler = set(kitap['tur'] for kitap in kitaplar)\n",
    "print(\"Kitap türleri:\", turler)\n",
    "\n",
    "# Satış adedi 1000’den fazla olan kitaplar\n",
    "cok_satan_kitaplar = [kitap['isim'] for kitap in kitaplar if kitap['satis'] > 1000]\n",
    "print(\"1000’den fazla satan kitaplar:\", cok_satan_kitaplar)"
   ]
  },
  {
   "cell_type": "code",
   "execution_count": 38,
   "id": "f72b20c4-b78a-4755-b7c3-33c346c415b9",
   "metadata": {},
   "outputs": [
    {
     "name": "stdout",
     "output_type": "stream",
     "text": [
      "2020 sonrası kitap isimleri: ['Veri Bilimi 101', 'Makine Öğrenmesi', 'Matematiksel Modelleme', 'Bilgi Toplumu'] \n",
      "\n",
      "Satışlar %10 artırılmış: [1320.0, 1045.0, 770.0, 1980.0, 440.0, 1650.0, 660.0] \n",
      "\n",
      "Satışa göre sıralı kitaplar: ['Makine Öğrenmesi', 'Matematiksel Modelleme', 'Veri Bilimi 101', 'Python ile Yapay Zeka', 'İstatistik Temelleri', 'Bilgi Toplumu', 'Veri Görselleştirme']\n"
     ]
    }
   ],
   "source": [
    "# 2020’den sonra çıkan kitapların listesi\n",
    "kitap_2020_sonra = list(filter(lambda k: k['yil'] > 2020, kitaplar))\n",
    "print(\"2020 sonrası kitap isimleri:\", [k['isim'] for k in kitap_2020_sonra], \"\\n\")\n",
    "\n",
    "# Satış adetlerini %10 artır\n",
    "yeni_satisler = list(map(lambda k: round(k['satis']*1.1, 2), kitaplar))\n",
    "print(\"Satışlar %10 artırılmış:\", yeni_satisler, \"\\n\")\n",
    "\n",
    "# Kitapları satış miktarına göre azalan sırada sıralayalım ve sadece isimlerini yazdıralım\n",
    "sirali_kitaplar = sorted(kitaplar, key=lambda k: k['satis'], reverse=True)\n",
    "kitap_isimleri = [k['isim'] for k in sirali_kitaplar]\n",
    "print(\"Satışa göre sıralı kitaplar:\", kitap_isimleri)"
   ]
  },
  {
   "cell_type": "code",
   "execution_count": 40,
   "id": "74bd7206-9962-4f55-86c1-bc99d97a15cf",
   "metadata": {},
   "outputs": [
    {
     "name": "stdout",
     "output_type": "stream",
     "text": [
      "Ortalama satış: 1021.4285714285714\n",
      "En çok satan tür: Bilim\n",
      "Satışların standart sapması: 506.5053001179939\n"
     ]
    }
   ],
   "source": [
    "import statistics\n",
    "\n",
    "satislar = [kitap['satis'] for kitap in kitaplar]\n",
    "\n",
    "# Ortalama satış\n",
    "ortalama_satis = statistics.mean(satislar)\n",
    "print(\"Ortalama satış:\", ortalama_satis)\n",
    "\n",
    "# En çok satış yapan tür\n",
    "tur_satis = {}\n",
    "for kitap in kitaplar:\n",
    "    tur_satis[kitap['tur']] = tur_satis.get(kitap['tur'], 0) + kitap['satis']\n",
    "en_cok_satan_tur = max(tur_satis, key=tur_satis.get)\n",
    "print(\"En çok satan tür:\", en_cok_satan_tur)\n",
    "\n",
    "# Satışların standart sapması\n",
    "std_sapma = statistics.stdev(satislar)\n",
    "print(\"Satışların standart sapması:\", std_sapma)"
   ]
  },
  {
   "cell_type": "code",
   "execution_count": 48,
   "id": "24aaff0b-6650-4887-8610-aedb1fd7a5f6",
   "metadata": {},
   "outputs": [
    {
     "name": "stdout",
     "output_type": "stream",
     "text": [
      "Yazar ortalama satışları (train): {'Deniz': 400, 'Can': 1800, 'Ali': 1100}\n",
      "Ortalama satışın üstünde olan test kitapları: ['Veri Bilimi 101', 'Python ile Yapay Zeka', 'Bilgi Toplumu']\n"
     ]
    }
   ],
   "source": [
    "import random\n",
    "\n",
    "# Random olarak train/test ayırma\n",
    "train = random.sample(kitaplar, int(len(kitaplar)*0.7))  \n",
    "test = [k for k in kitaplar if k not in train]           \n",
    "\n",
    "# Eğitim verisinden yazarların ortalama satışını hesaplayalım\n",
    "yazar_ortalama = {}\n",
    "for kitap in train:\n",
    "    yazar = kitap['yazar']\n",
    "    yazar_ortalama[yazar] = yazar_ortalama.get(yazar, []) + [kitap['satis']]\n",
    "yazar_ortalama = {y: statistics.mean(v) for y, v in yazar_ortalama.items()}\n",
    "print(\"Yazar ortalama satışları (train):\", yazar_ortalama)\n",
    "\n",
    "# Test verisinde hangi kitaplar ortalamanın üzerinde satmış bulalım\n",
    "satis_ustu_kitaplar = [kitap['isim'] for kitap in test if kitap['satis'] > yazar_ortalama.get(kitap['yazar'], 0)]\n",
    "print(\"Ortalama satışın üstünde olan test kitapları:\", satis_ustu_kitaplar)"
   ]
  },
  {
   "cell_type": "code",
   "execution_count": 51,
   "id": "f66750b0-ce0f-4426-a5b6-28069bb462e5",
   "metadata": {},
   "outputs": [
    {
     "name": "stdout",
     "output_type": "stream",
     "text": [
      "\n",
      "--- Train Set Analizi ---\n",
      "Ortalama satış: 1100\n",
      "Standart sapma: 658.2805886043833\n",
      "En çok satan kitap: Makine Öğrenmesi\n"
     ]
    }
   ],
   "source": [
    "# Satış adetleri\n",
    "train_satis = [k['satis'] for k in train]\n",
    "\n",
    "# Ortalama ve standart sapma\n",
    "train_ortalama = statistics.mean(train_satis)\n",
    "train_std = statistics.stdev(train_satis)\n",
    "\n",
    "# En çok satış yapan kitap\n",
    "train_en_cok_satan = max(train, key=lambda k: k['satis'])\n",
    "\n",
    "print(\"\\n--- Train Set Analizi ---\")\n",
    "print(\"Ortalama satış:\", train_ortalama)\n",
    "print(\"Standart sapma:\", train_std)\n",
    "print(\"En çok satan kitap:\", train_en_cok_satan['isim'])"
   ]
  },
  {
   "cell_type": "code",
   "execution_count": 53,
   "id": "b90ea95c-86d5-4c29-bc4e-441141d6e28b",
   "metadata": {},
   "outputs": [
    {
     "name": "stdout",
     "output_type": "stream",
     "text": [
      "\n",
      "--- Test Set Analizi ---\n",
      "Ortalama satış: 916.6666666666666\n",
      "Standart sapma: 301.3856886670854\n",
      "En çok satan kitap: Veri Bilimi 101\n"
     ]
    }
   ],
   "source": [
    "test_satis = [k['satis'] for k in test]\n",
    "\n",
    "# Ortalama ve standart sapma\n",
    "test_ortalama = statistics.mean(test_satis)\n",
    "test_std = statistics.stdev(test_satis) if len(test_satis) > 1 else 0  # tek eleman varsa stdev 0\n",
    "\n",
    "# En çok satış yapan kitap\n",
    "test_en_cok_satan = max(test, key=lambda k: k['satis'])\n",
    "\n",
    "print(\"\\n--- Test Set Analizi ---\")\n",
    "print(\"Ortalama satış:\", test_ortalama)\n",
    "print(\"Standart sapma:\", test_std)\n",
    "print(\"En çok satan kitap:\", test_en_cok_satan['isim'])\n"
   ]
  },
  {
   "cell_type": "code",
   "execution_count": 55,
   "id": "26e1c6da-6c47-4c4a-acec-61b0b4479908",
   "metadata": {},
   "outputs": [
    {
     "name": "stdout",
     "output_type": "stream",
     "text": [
      "\n",
      "--- Karşılaştırma ---\n",
      "Train ortalaması: 1100, Test ortalaması: 916.6666666666666\n",
      "Train std: 658.2805886043833, Test std: 301.3856886670854\n",
      "Not: Train seti daha büyük olduğundan istatistiksel değerler daha kararlı, test seti küçük olduğundan değişkenlik yüksek olabilir.\n"
     ]
    }
   ],
   "source": [
    "print(\"\\n--- Karşılaştırma ---\")\n",
    "print(f\"Train ortalaması: {train_ortalama}, Test ortalaması: {test_ortalama}\")\n",
    "print(f\"Train std: {train_std}, Test std: {test_std}\")\n",
    "print(\"Not: Train seti daha büyük olduğundan istatistiksel değerler daha kararlı, test seti küçük olduğundan değişkenlik yüksek olabilir.\")\n",
    "\n",
    "# Yorum:\n",
    "# - Train setindeki ortalama genellikle tüm veri setinin trendini gösterir.\n",
    "# - Test seti, yeni kitapların satış performansını test eder. \n",
    "# - Fark çok büyükse, veri dengesiz olabilir veya küçük test seti yetersiz olabilir."
   ]
  }
 ],
 "metadata": {
  "kernelspec": {
   "display_name": "Python [conda env:base] *",
   "language": "python",
   "name": "conda-base-py"
  },
  "language_info": {
   "codemirror_mode": {
    "name": "ipython",
    "version": 3
   },
   "file_extension": ".py",
   "mimetype": "text/x-python",
   "name": "python",
   "nbconvert_exporter": "python",
   "pygments_lexer": "ipython3",
   "version": "3.12.7"
  }
 },
 "nbformat": 4,
 "nbformat_minor": 5
}
