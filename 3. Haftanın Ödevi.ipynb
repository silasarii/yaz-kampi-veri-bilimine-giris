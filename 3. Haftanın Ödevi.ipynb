{
 "cells": [
  {
   "cell_type": "markdown",
   "id": "2cd4997c-a288-464d-963e-9f23a7419d72",
   "metadata": {
    "jp-MarkdownHeadingCollapsed": true
   },
   "source": [
    "## Soru 1 – Liste Metotları"
   ]
  },
  {
   "cell_type": "markdown",
   "id": "af4b34f4-b299-49e5-89a6-c99b31933f15",
   "metadata": {},
   "source": [
    "### Bir sınıfta öğrencilerin notları şu şekilde tutuluyor:\n",
    "### notlar = [85, 92, 76, 92, 100, 76, 85, 92]\n",
    "#### • Listedeki tekrar eden notları silip benzersiz bir liste oluşturun.\n",
    "#### • En yüksek ve en düşük notu bulun.\n",
    "#### • Notları küçükten büyüğe sıralayın."
   ]
  },
  {
   "cell_type": "code",
   "execution_count": 24,
   "id": "a518cb71-eea7-4d50-8625-8a43777afe12",
   "metadata": {},
   "outputs": [
    {
     "name": "stdout",
     "output_type": "stream",
     "text": [
      "Yeni öğrenci not listesi: [100, 92, 85, 76] \n",
      "\n",
      "En yüksek not: 100\n",
      "En düşük not: 76 \n",
      "\n",
      "Küçükten büyüğe sıralı notlar: [76, 85, 92, 100]\n"
     ]
    }
   ],
   "source": [
    "# Öğrenci notları listesi\n",
    "notlar = [85, 92, 76, 92, 100, 76, 85, 92] \n",
    "\n",
    "# Tekrar eden notları silip benzersiz bir liste oluşturalım \n",
    "benzersiz_notlar = list(set(notlar))\n",
    "print(\"Yeni öğrenci not listesi:\", benzersiz_notlar, \"\\n\")\n",
    "\n",
    "# En yüksek ve en düşük notu bulalım\n",
    "en_yuksek = max(benzersiz_notlar)\n",
    "en_dusuk = min(benzersiz_notlar)\n",
    "print(\"En yüksek not:\", en_yuksek)\n",
    "print(\"En düşük not:\", en_dusuk, \"\\n\")\n",
    "\n",
    "# Notları küçükten büyüğe doğru sıralayalım \n",
    "sirali_notlar = sorted(benzersiz_notlar)\n",
    "print(\"Küçükten büyüğe sıralı notlar:\", sirali_notlar)"
   ]
  },
  {
   "cell_type": "markdown",
   "id": "ae17d80f-85f0-44ef-bbfe-57952c0552a8",
   "metadata": {
    "jp-MarkdownHeadingCollapsed": true
   },
   "source": [
    "## Soru 2 – Sayılar"
   ]
  },
  {
   "cell_type": "markdown",
   "id": "cbb28c2f-27e6-41d8-ad7b-8cc880a88add",
   "metadata": {},
   "source": [
    "### Bir sayının Armstrong sayısı olup olmadığını kontrol eden bir Python fonksiyonu yazın."
   ]
  },
  {
   "cell_type": "code",
   "execution_count": 13,
   "id": "5fd11614-7f8e-4cb8-9176-3b5f144ed954",
   "metadata": {},
   "outputs": [
    {
     "name": "stdout",
     "output_type": "stream",
     "text": [
      "370 ---> Bir Armstrong Sayısıdır.\n"
     ]
    }
   ],
   "source": [
    "sayi = 370\n",
    "\n",
    "# sayıyı stringe yazı tipine çeviriyoruz\n",
    "basamaklar = str(sayi)\n",
    "toplam = sum(int(digit)**3 for digit in basamaklar)  # her basamağın küpünü alıp topluyoruz\n",
    "\n",
    "if toplam == sayi:\n",
    "    print(sayi, \"--->\", \"Bir Armstrong Sayısıdır.\")\n",
    "else:\n",
    "    print(sayi, \"--->\", \"Bir Armstrong Sayısı Değildir.\")\n"
   ]
  },
  {
   "cell_type": "markdown",
   "id": "36427e3a-63e3-4b94-83d2-cdade966e32e",
   "metadata": {
    "jp-MarkdownHeadingCollapsed": true
   },
   "source": [
    "## Soru 3 – Kümeler"
   ]
  },
  {
   "cell_type": "markdown",
   "id": "c8c5679f-6383-40b1-a04c-74f96d0d7311",
   "metadata": {},
   "source": [
    "### Aşağıdaki iki küme verilmiştir:\n",
    "### A = {\"Python\", \"R\", \"SQL\", \"Java\"}\n",
    "### B = {\"C++\", \"Python\", \"JavaScript\", \"SQL\"}\n",
    "#### • Ortak dilleri bulun.\n",
    "#### • Sadece A’da olan dilleri listeleyin.\n",
    "#### • İki kümenin birleşimini alfabetik olarak yazdırın."
   ]
  },
  {
   "cell_type": "code",
   "execution_count": 21,
   "id": "ff91d225-9066-482d-8b2e-5f5cf3268226",
   "metadata": {},
   "outputs": [
    {
     "name": "stdout",
     "output_type": "stream",
     "text": [
      "Ortak diller: {'SQL', 'Python'}\n",
      "Sadece A'da olan diller: {'Java', 'R'}\n",
      "Birleşim (alfabetik): ['C++', 'Java', 'JavaScript', 'Python', 'R', 'SQL']\n"
     ]
    }
   ],
   "source": [
    "A = {\"Python\", \"R\", \"SQL\", \"Java\"}\n",
    "B = {\"C++\", \"Python\", \"JavaScript\", \"SQL\"}\n",
    "\n",
    "# Ortak dilleri buluyoruz \n",
    "ortak = A.intersection(B)\n",
    "print(\"Ortak diller:\", ortak)\n",
    "\n",
    "# Sadece A’da olan dilleri listeliyoruz \n",
    "sadece_A = A.difference(B)\n",
    "print(\"Sadece A'da olan diller:\", sadece_A)\n",
    "\n",
    "# İki kümeyi birleştirip alfabetik sırayla listeliyoruz\n",
    "birlesim = sorted(A.union(B))\n",
    "print(\"Birleşim (alfabetik):\", birlesim)"
   ]
  },
  {
   "cell_type": "markdown",
   "id": "b0ffa1df-9455-4b31-96ea-5928132601b0",
   "metadata": {
    "jp-MarkdownHeadingCollapsed": true
   },
   "source": [
    "## Soru 4 – Modüller"
   ]
  },
  {
   "cell_type": "markdown",
   "id": "b947c88f-95e5-4dda-a845-717254d916e7",
   "metadata": {},
   "source": [
    "### • random modülünü kullanarak 1–100 arasında 10 rastgele sayı üretin.\n",
    "### • Bu sayıların ortalamasını ve standart sapmasını statistics modülü ile hesaplayın."
   ]
  },
  {
   "cell_type": "code",
   "execution_count": 27,
   "id": "537f5148-898f-4fbe-a18d-7c89b4f3e11d",
   "metadata": {},
   "outputs": [
    {
     "name": "stdout",
     "output_type": "stream",
     "text": [
      "Rastgele sayılar: [58 32 33 93 84 42 19 25 56 52]\n",
      "Ortalama: 49.4\n",
      "Standart sapma: 24.42312201355283\n"
     ]
    }
   ],
   "source": [
    "import numpy as np\n",
    "\n",
    "sayilar = np.random.randint(1, 101, 10)\n",
    "print(\"Rastgele sayılar:\", sayilar)\n",
    "print(\"Ortalama:\", np.mean(sayilar))\n",
    "print(\"Standart sapma:\", np.std(sayilar, ddof=1))"
   ]
  },
  {
   "cell_type": "markdown",
   "id": "8e4a216e-3171-47d2-aa4c-6d70e3df096d",
   "metadata": {
    "jp-MarkdownHeadingCollapsed": true
   },
   "source": [
    "## Soru 5 – Fonksiyonlar"
   ]
  },
  {
   "cell_type": "markdown",
   "id": "132e5099-f1c9-4eb7-bf49-fcbb37d89dd1",
   "metadata": {},
   "source": [
    "### kelime_sayacı(metin) adında bir fonksiyon yazın. Fonksiyon verilen metindeki:\n",
    "#### • toplam kelime sayısını\n",
    "#### • en uzun kelimeyi\n",
    "#### • en sık geçen kelimeyi döndürsün."
   ]
  },
  {
   "cell_type": "code",
   "execution_count": 46,
   "id": "d671a844-3250-439a-8d5a-04a0ae56c983",
   "metadata": {},
   "outputs": [
    {
     "name": "stdout",
     "output_type": "stream",
     "text": [
      "Toplam kelime sayısı: 6\n",
      "En uzun kelime: temizlemek\n",
      "En çok geçen kelime: veri\n"
     ]
    }
   ],
   "source": [
    "def kelime_sayaci(metin):\n",
    "    \n",
    "# Metni kelimelere ayırıyoruz\n",
    "    kelimeler = metin.split()\n",
    "    \n",
    "# Toplam kelime sayısını buluyoruz\n",
    "    toplam = len(kelimeler)\n",
    "    \n",
    "# En uzun kelimeyi buluyoruz\n",
    "    en_uzun = max(kelimeler, key=len)\n",
    "    \n",
    "# En çok geçen kelimeyi buluyoruz\n",
    "    en_cok = max(set(kelimeler), key=kelimeler.count)\n",
    "    \n",
    "    return toplam, en_uzun, en_cok\n",
    "\n",
    "\n",
    "metin = \"veri temizlemek veri analizi için şarttır.\"\n",
    "sonuc = kelime_sayaci(metin)\n",
    "print(\"Toplam kelime sayısı:\", sonuc[0])\n",
    "print(\"En uzun kelime:\", sonuc[1])\n",
    "print(\"En çok geçen kelime:\", sonuc[2])\n"
   ]
  },
  {
   "cell_type": "markdown",
   "id": "8f2cf322-101e-4a67-b2b1-281b559ca12b",
   "metadata": {
    "jp-MarkdownHeadingCollapsed": true
   },
   "source": [
    "## Soru 6 – Gömülü Fonksiyonlar"
   ]
  },
  {
   "cell_type": "markdown",
   "id": "5230e13f-710f-4062-9821-d786b3c02f9c",
   "metadata": {},
   "source": [
    "### Aşağıdaki liste için map, filter, sorted gibi gömülü fonksiyonları kullanarak:\n",
    "### sayilar = [5, 12, 7, 18, 24, 3, 16]\n",
    "#### • Sadece çift sayıları filtreleyin.\n",
    "#### • Bu sayıların karelerini bulun.\n",
    "#### • Karelerini azalan sırada sıralayın."
   ]
  },
  {
   "cell_type": "code",
   "execution_count": 4,
   "id": "e3cd51b1-3532-4177-be23-09d1fa2cff58",
   "metadata": {},
   "outputs": [
    {
     "name": "stdout",
     "output_type": "stream",
     "text": [
      "Sonuç: [576, 324, 256, 144]\n"
     ]
    }
   ],
   "source": [
    "sayilar = [5, 12, 7, 18, 24, 3, 16]\n",
    "\n",
    "# Çift sayıları filtreleyelim\n",
    "ciftler = filter(lambda x: x % 2 == 0, sayilar)\n",
    "\n",
    "# Karelerini bulalım\n",
    "kareler = map(lambda x: x**2, ciftler)\n",
    "\n",
    "# Azalan sırada sıralayalım\n",
    "sirali_kareler = sorted(kareler, reverse=True)\n",
    "\n",
    "print(\"Sonuç:\", sirali_kareler)"
   ]
  },
  {
   "cell_type": "markdown",
   "id": "7670e833-b8b6-4a4e-9386-9368818414e7",
   "metadata": {
    "jp-MarkdownHeadingCollapsed": true
   },
   "source": [
    "## Soru 7 – Lambda İfadeleri"
   ]
  },
  {
   "cell_type": "markdown",
   "id": "235a57a3-ffd8-4a61-b65c-d50878c2e37d",
   "metadata": {},
   "source": [
    "### Aşağıdaki listeyi, her kelimenin uzunluğuna göre küçükten büyüğe sıralayın.\n",
    "### kelimeler = [\"veri\", \"bilim\", \"analiz\", \"yapayzeka\", \"python\"]"
   ]
  },
  {
   "cell_type": "code",
   "execution_count": 9,
   "id": "901ec668-5e89-4488-b0a7-cf55e0ee58d6",
   "metadata": {},
   "outputs": [
    {
     "name": "stdout",
     "output_type": "stream",
     "text": [
      "Sıralı liste: ['veri', 'bilim', 'analiz', 'python', 'yapayzeka']\n"
     ]
    }
   ],
   "source": [
    "kelimeler = [\"veri\", \"bilim\", \"analiz\", \"yapayzeka\", \"python\"]\n",
    "\n",
    "# Kelime uzunluklarına göre sıralayalım\n",
    "sirali = sorted(kelimeler, key=lambda x: len(x))\n",
    "\n",
    "print(\"Sıralı liste:\", sirali)"
   ]
  },
  {
   "cell_type": "markdown",
   "id": "6fc9ee33-ccf7-4e9a-8d82-bafbde9cefe7",
   "metadata": {
    "jp-MarkdownHeadingCollapsed": true
   },
   "source": [
    "## Soru 8 – Metodlar"
   ]
  },
  {
   "cell_type": "markdown",
   "id": "3913d942-fa55-470d-8757-8b1d3218da51",
   "metadata": {},
   "source": [
    "### Bir string içinde geçen tüm rakamları bulun ve bunların toplamını döndüren bir fonksiyon yazın."
   ]
  },
  {
   "cell_type": "code",
   "execution_count": 15,
   "id": "1b69f1b2-92ac-4e6f-af76-0a31451794c4",
   "metadata": {},
   "outputs": [
    {
     "name": "stdout",
     "output_type": "stream",
     "text": [
      "66\n"
     ]
    }
   ],
   "source": [
    "import re\n",
    "\n",
    "def rakam_toplami(metin):\n",
    "    sayilar = re.findall(r\"\\d+\", metin)  \n",
    "    return sum(map(int, sayilar))\n",
    "\n",
    "print(rakam_toplami(\"abc45km21s\"))"
   ]
  },
  {
   "cell_type": "markdown",
   "id": "5ed71d8a-e4e8-43d0-b268-7ac21c6f111b",
   "metadata": {
    "jp-MarkdownHeadingCollapsed": true
   },
   "source": [
    "## Soru 9 – Numpy 1"
   ]
  },
  {
   "cell_type": "markdown",
   "id": "73d5e3dc-b473-4a70-abdb-ec1cc2c8ea3a",
   "metadata": {},
   "source": [
    "### 10 elemanlı bir numpy dizisi oluşturun.\n",
    "#### • Elemanlar 0–50 arasında rastgele sayılar olsun.\n",
    "#### • Dizinin ortalamasını, standart sapmasını ve en büyük değerini bulun."
   ]
  },
  {
   "cell_type": "code",
   "execution_count": 20,
   "id": "3b418480-d317-460b-ac16-a9a468218578",
   "metadata": {},
   "outputs": [
    {
     "name": "stdout",
     "output_type": "stream",
     "text": [
      "Dizi: [50 28 27 18  1 17 26 43  9 17]\n",
      "Ortalama: 23.6\n",
      "Standart sapma: 13.972830779766854\n",
      "En büyük değer: 50\n"
     ]
    }
   ],
   "source": [
    "import numpy as np\n",
    "\n",
    "# 10 elemanlı, 0–50 arasında rastgele sayılar üretelim\n",
    "dizi = np.random.randint(0, 51, 10)\n",
    "print(\"Dizi:\", dizi)\n",
    "\n",
    "# Ortalama\n",
    "ortalama = np.mean(dizi)\n",
    "print(\"Ortalama:\", ortalama)\n",
    "\n",
    "# Standart sapma\n",
    "std_sapma = np.std(dizi)\n",
    "print(\"Standart sapma:\", std_sapma)\n",
    "\n",
    "# En büyük değer\n",
    "en_buyuk = np.max(dizi)\n",
    "print(\"En büyük değer:\", en_buyuk)"
   ]
  },
  {
   "cell_type": "markdown",
   "id": "5f92b999-c424-4139-83fb-cb8382a3822b",
   "metadata": {
    "jp-MarkdownHeadingCollapsed": true
   },
   "source": [
    "## Soru 10 – Numpy 2"
   ]
  },
  {
   "cell_type": "markdown",
   "id": "338b5b13-2941-4ac0-84d2-915b87f5ae3a",
   "metadata": {},
   "source": [
    "### 5x5 boyutunda rastgele 0–1 arasında değerlerden oluşan bir numpy matrisi üretin.\n",
    "#### • Her sütunun ortalamasını bulun.\n",
    "#### • 0.5’ten büyük olan değerleri 1, küçük eşit olanları 0 yaparak binary matris oluşturun."
   ]
  },
  {
   "cell_type": "code",
   "execution_count": 24,
   "id": "8d1009c2-774a-4024-942b-f971ccab029e",
   "metadata": {},
   "outputs": [
    {
     "name": "stdout",
     "output_type": "stream",
     "text": [
      "Orijinal matris:\n",
      " [[0.04045501 0.66600385 0.89419283 0.60414544 0.37382287]\n",
      " [0.47780169 0.73306437 0.497339   0.58073256 0.94015482]\n",
      " [0.90368932 0.70194489 0.06934177 0.51133859 0.38291068]\n",
      " [0.73022561 0.45014107 0.22823337 0.23044346 0.63800077]\n",
      " [0.44773626 0.67456701 0.61809214 0.51050724 0.59049951]]\n",
      "Sütun ortalamaları: [0.51998158 0.64514424 0.46143982 0.48743346 0.58507773]\n",
      "Binary matris:\n",
      " [[0 1 1 1 0]\n",
      " [0 1 0 1 1]\n",
      " [1 1 0 1 0]\n",
      " [1 0 0 0 1]\n",
      " [0 1 1 1 1]]\n"
     ]
    }
   ],
   "source": [
    "import numpy as np\n",
    "\n",
    "# 5x5 boyutunda 0-1 arasında rastgele değerlerden oluşan matris oluşturalım\n",
    "matris = np.random.rand(5, 5)\n",
    "print(\"Orijinal matris:\\n\", matris)\n",
    "\n",
    "# Her sütunun ortalamasını bulalım\n",
    "sutun_ortalari = np.mean(matris, axis=0)\n",
    "print(\"Sütun ortalamaları:\", sutun_ortalari)\n",
    "\n",
    "# Binary matris oluşturalım\n",
    "binary_matris = np.where(matris > 0.5, 1, 0)\n",
    "print(\"Binary matris:\\n\", binary_matris)"
   ]
  },
  {
   "cell_type": "code",
   "execution_count": null,
   "id": "f14d1698-bb7b-4fcd-9487-233a39d0f828",
   "metadata": {},
   "outputs": [],
   "source": []
  }
 ],
 "metadata": {
  "kernelspec": {
   "display_name": "Python [conda env:base] *",
   "language": "python",
   "name": "conda-base-py"
  },
  "language_info": {
   "codemirror_mode": {
    "name": "ipython",
    "version": 3
   },
   "file_extension": ".py",
   "mimetype": "text/x-python",
   "name": "python",
   "nbconvert_exporter": "python",
   "pygments_lexer": "ipython3",
   "version": "3.12.7"
  }
 },
 "nbformat": 4,
 "nbformat_minor": 5
}
