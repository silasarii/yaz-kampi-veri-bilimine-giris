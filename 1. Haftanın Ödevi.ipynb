{
 "cells": [
  {
   "cell_type": "markdown",
   "id": "f8db2683-05fe-497c-9064-977ec8fdf01d",
   "metadata": {
    "jp-MarkdownHeadingCollapsed": true
   },
   "source": [
    "# Bölüm 1: Veri Tipleri"
   ]
  },
  {
   "cell_type": "markdown",
   "id": "8a9c4530-6325-4581-84e5-3f95f1d833fc",
   "metadata": {
    "jp-MarkdownHeadingCollapsed": true
   },
   "source": [
    "### Kullanıcıdan adını, yaşını ve boyunu (float) input() ile alınız. Bu bilgileri uygun veri tiplerinde değişkenlerde saklayınız ve ekrana anlamlı bir şekilde yazdırınız."
   ]
  },
  {
   "cell_type": "code",
   "execution_count": 10,
   "id": "ba91d654-2dfe-4a07-ae3b-a26454af4e8b",
   "metadata": {},
   "outputs": [
    {
     "name": "stdin",
     "output_type": "stream",
     "text": [
      "Adınızı giriniz:  Sıla\n",
      "Yaşınızı giriniz:  21\n",
      "Boyunuzu giriniz (örn: 1.70):  1.68\n"
     ]
    },
    {
     "name": "stdout",
     "output_type": "stream",
     "text": [
      "Merhaba Sıla, 21 yaşındasınız ve boyunuz 1.68 metredir.\n"
     ]
    }
   ],
   "source": [
    "# Kullanıcıdan bilgileri alma\n",
    "ad = input(\"Adınızı giriniz: \")          \n",
    "yas = int(input(\"Yaşınızı giriniz: \"))  \n",
    "boy = float(input(\"Boyunuzu giriniz (örn: 1.70): \")) \n",
    "\n",
    "# Bilgileri ekrana yazdırma\n",
    "print(\"Merhaba {}, {} yaşındasınız ve boyunuz {} metredir.\".format(ad, yas, boy))"
   ]
  },
  {
   "cell_type": "markdown",
   "id": "63e194be-ac7f-41fb-bf07-badeac3b926b",
   "metadata": {
    "jp-MarkdownHeadingCollapsed": true
   },
   "source": [
    "### Bir öğrencinin notlarını (Matematik, Fizik, Kimya) int tipinde değişkenlere atayın. Ortalamasını float tipinde hesaplayıp ekrana yazdırınız."
   ]
  },
  {
   "cell_type": "code",
   "execution_count": 15,
   "id": "7aa56e5f-93f0-48da-946f-9cb912a0f26e",
   "metadata": {},
   "outputs": [
    {
     "name": "stdout",
     "output_type": "stream",
     "text": [
      "Matematik: 85, Fizik: 70, Kimya: 90\n",
      "Not Ortalaması: 81.67\n"
     ]
    }
   ],
   "source": [
    "# Öğrencinin notlarını değişkenlere atama\n",
    "matematik = 85\n",
    "fizik = 70\n",
    "kimya = 90\n",
    "\n",
    "# Ortalama hesaplama\n",
    "ortalama = (matematik + fizik + kimya) / 3\n",
    "\n",
    "# Bilgileri ekrana yazdırma\n",
    "print(\"Matematik: {}, Fizik: {}, Kimya: {}\".format(matematik, fizik, kimya))\n",
    "print(\"Not Ortalaması: {:.2f}\".format(ortalama))"
   ]
  },
  {
   "cell_type": "markdown",
   "id": "d84d2990-b55f-47c6-a6fc-348e7f15714f",
   "metadata": {
    "jp-MarkdownHeadingCollapsed": true
   },
   "source": [
    "### Bir string değişkeni tanımlayın. Bu stringin ilk ve son karakterini, uzunluğunu ve ters çevrilmiş halini ekrana yazdırınız."
   ]
  },
  {
   "cell_type": "code",
   "execution_count": 27,
   "id": "e20ffe87-d2a2-42bc-8c12-783c6e66ded7",
   "metadata": {},
   "outputs": [
    {
     "name": "stdout",
     "output_type": "stream",
     "text": [
      "Metin: veri\n",
      "İlk karakter: v\n",
      "Son karakter: i\n",
      "Uzunluk: 4\n",
      "Ters hali: irev\n"
     ]
    }
   ],
   "source": [
    "# String değişkeni tanımlama\n",
    "metin = \"veri\"\n",
    "\n",
    "# İlk karakter\n",
    "ilk = metin[0]\n",
    "\n",
    "# Son karakter\n",
    "son = metin[-1]\n",
    "\n",
    "# Uzunluk\n",
    "uzunluk = len(metin)\n",
    "\n",
    "# Ters çevirme\n",
    "ters = metin[::-1]\n",
    "\n",
    "# Ekrana yazdırma\n",
    "print(\"Metin: {}\".format(metin))\n",
    "print(\"İlk karakter: {}\".format(ilk))\n",
    "print(\"Son karakter: {}\".format(son))\n",
    "print(\"Uzunluk: {}\".format(uzunluk))\n",
    "print(\"Ters hali: {}\".format(ters))"
   ]
  },
  {
   "cell_type": "markdown",
   "id": "026d4a61-63e9-4c19-8017-7404daa5ef37",
   "metadata": {
    "jp-MarkdownHeadingCollapsed": true
   },
   "source": [
    "# Bölüm 2: Operatörler"
   ]
  },
  {
   "cell_type": "markdown",
   "id": "d90c61b3-c030-48d3-9988-8a203628600f",
   "metadata": {},
   "source": [
    "### Kullanıcıdan iki sayı alınız. Bu sayılar üzerinde toplama, çıkarma, çarpma, bölme ve mod işlemleri yapınız."
   ]
  },
  {
   "cell_type": "code",
   "execution_count": 36,
   "id": "dfb58c9b-b0e8-465a-bb48-2fbe14a83931",
   "metadata": {},
   "outputs": [
    {
     "name": "stdin",
     "output_type": "stream",
     "text": [
      "Birinci sayıyı giriniz:  128\n",
      "İkinci sayıyı giriniz:  16\n"
     ]
    },
    {
     "name": "stdout",
     "output_type": "stream",
     "text": [
      "İşlemler sonucu:\n",
      "128 + 16 = 144\n",
      "128 - 16 = 112\n",
      "128 * 16 = 2048\n",
      "128 / 16 = 8.00\n",
      "128 % 16 = 0\n"
     ]
    }
   ],
   "source": [
    "# Kullanıcıdan iki sayı alma\n",
    "sayi1 = int(input(\"Birinci sayıyı giriniz: \"))\n",
    "sayi2 = int(input(\"İkinci sayıyı giriniz: \"))\n",
    "\n",
    "# İşlemleri yapma\n",
    "toplam = sayi1 + sayi2\n",
    "cikarma = sayi1 - sayi2\n",
    "carpma = sayi1 * sayi2\n",
    "bolme = sayi1 / sayi2\n",
    "mod = sayi1 % sayi2 \n",
    "\n",
    "# Tek format() ile yazdırma\n",
    "print(\"İşlemler sonucu:\\n{} + {} = {}\\n{} - {} = {}\\n{} * {} = {}\\n{} / {} = {:.2f}\\n{} % {} = {}\".format(\n",
    "    sayi1, sayi2, toplam,\n",
    "    sayi1, sayi2, cikarma,\n",
    "    sayi1, sayi2, carpma,\n",
    "    sayi1, sayi2, bolme,\n",
    "    sayi1, sayi2, mod\n",
    "))"
   ]
  },
  {
   "cell_type": "markdown",
   "id": "2dd8261b-75b9-4e13-b93a-31e0dbbead1b",
   "metadata": {
    "jp-MarkdownHeadingCollapsed": true
   },
   "source": [
    "### Bir öğrencinin ortalaması 50’den büyükse 'Geçti', değilse 'Kaldı' çıktısını veren bir program yazınız. (Karşılaştırma ve mantıksal operatörler kullanılacak.)"
   ]
  },
  {
   "cell_type": "code",
   "execution_count": 66,
   "id": "d7ba9efb-5644-4288-90d3-3a2fc23a10cb",
   "metadata": {},
   "outputs": [
    {
     "name": "stdin",
     "output_type": "stream",
     "text": [
      "Vize notunu giriniz:  34\n",
      "Final notunu giriniz:  63\n"
     ]
    },
    {
     "name": "stdout",
     "output_type": "stream",
     "text": [
      "Ortalama: 48 → Kaldınız\n"
     ]
    }
   ],
   "source": [
    "# Öğrencinin notlarını değişkenlere atama\n",
    "vize = int(input(\"Vize notunu giriniz: \"))  \n",
    "final = int(input(\"Final notunu giriniz: \"))\n",
    "\n",
    "# Ortalama hesaplama\n",
    "ortalama = int((vize + final) / 2)\n",
    "\n",
    "# Geçti/Kaldı kontrolü\n",
    "if ortalama > 50:\n",
    "    print(\"Ortalama: {} → Geçtiniz\".format(ortalama))\n",
    "else:\n",
    "    print(\"Ortalama: {} → Kaldınız\".format(ortalama))"
   ]
  },
  {
   "cell_type": "markdown",
   "id": "a513908f-0590-4311-96f5-70ec01c39134",
   "metadata": {
    "jp-MarkdownHeadingCollapsed": true
   },
   "source": [
    "### Kullanıcıdan yaşını alınız. Eğer yaş 18’den büyükse 'Ehliyet alabilirsiniz', değilse 'Ehliyet alamazsınız' çıktısı veriniz."
   ]
  },
  {
   "cell_type": "code",
   "execution_count": 71,
   "id": "55e5b6c0-f4a4-4377-864e-ef901cf7c081",
   "metadata": {},
   "outputs": [
    {
     "name": "stdin",
     "output_type": "stream",
     "text": [
      "Yaşınızı giriniz:  18\n"
     ]
    },
    {
     "name": "stdout",
     "output_type": "stream",
     "text": [
      "Ehliyet alamazsınız.\n"
     ]
    }
   ],
   "source": [
    "# Kullanıcıdan yaşını alma\n",
    "yas = int(input(\"Yaşınızı giriniz: \"))\n",
    "\n",
    "# Kontrol\n",
    "if yas > 18:\n",
    "    print(\"Ehliyet alabilirsiniz.\")\n",
    "else:\n",
    "    print(\"Ehliyet alamazsınız.\")"
   ]
  },
  {
   "cell_type": "markdown",
   "id": "480dce77-7ea4-42cf-a02e-36c9bdc4f328",
   "metadata": {
    "jp-MarkdownHeadingCollapsed": true
   },
   "source": [
    "### Bir ürünün fiyatını (float) ve indirim oranını (yüzde) alınız. İndirimli fiyatı hesaplayıp ekrana yazdırınız. (Aritmetik operatörler kullanılacak.)"
   ]
  },
  {
   "cell_type": "code",
   "execution_count": 5,
   "id": "d97675bf-cda2-4f06-9125-88dabdcb3d39",
   "metadata": {},
   "outputs": [
    {
     "name": "stdin",
     "output_type": "stream",
     "text": [
      "Ürünün fiyatını giriniz:  128\n",
      "İndirim oranını giriniz (%):  25\n"
     ]
    },
    {
     "name": "stdout",
     "output_type": "stream",
     "text": [
      "Ürünün indirimli fiyatı: 96.0 TL\n"
     ]
    }
   ],
   "source": [
    "# Kullanıcıdan fiyat ve indirim oranı alma\n",
    "fiyat = float(input(\"Ürünün fiyatını giriniz: \"))\n",
    "indirim_orani = float(input(\"İndirim oranını giriniz (%): \"))\n",
    "\n",
    "# İndirimli fiyat hesaplama\n",
    "indirimli_fiyat = fiyat - (fiyat * indirim_orani / 100)\n",
    "\n",
    "# Sonucu ekrana yazdırma\n",
    "print(\"Ürünün indirimli fiyatı: {} TL\".format(indirimli_fiyat))"
   ]
  },
  {
   "cell_type": "markdown",
   "id": "9b0e89be-1e07-47e5-8b7a-09e961d039e2",
   "metadata": {},
   "source": [
    "### True ve False değerlerini içeren değişkenlerle mantıksal operatörleri (and, or, not) uygulayarak örnekler yapınız ve sonuçlarını ekrana yazdırınız."
   ]
  },
  {
   "cell_type": "code",
   "execution_count": 1,
   "id": "c55f4bf9-61d7-4cf8-8c8b-427aea2b4b4c",
   "metadata": {},
   "outputs": [
    {
     "name": "stdout",
     "output_type": "stream",
     "text": [
      "a and b: False\n",
      "a and True: True\n",
      "b and False: False\n",
      "a or b: True\n",
      "b or False: False\n",
      "a or True: True\n",
      "not a: False\n",
      "not b: True\n"
     ]
    }
   ],
   "source": [
    "# Mantıksal operatör örnekleri\n",
    "\n",
    "a = True\n",
    "b = False\n",
    "\n",
    "# AND operatörü -> İkisi de True ise sonuç True\n",
    "print(\"a and b:\", a and b)   \n",
    "print(\"a and True:\", a and True)   \n",
    "print(\"b and False:\", b and False) \n",
    "\n",
    "# OR operatörü -> En az biri True ise sonuç True\n",
    "print(\"a or b:\", a or b)     \n",
    "print(\"b or False:\", b or False)   \n",
    "print(\"a or True:\", a or True)    \n",
    "\n",
    "# NOT operatörü -> Değerin tersini alır\n",
    "print(\"not a:\", not a)       \n",
    "print(\"not b:\", not b)     "
   ]
  }
 ],
 "metadata": {
  "kernelspec": {
   "display_name": "Python [conda env:base] *",
   "language": "python",
   "name": "conda-base-py"
  },
  "language_info": {
   "codemirror_mode": {
    "name": "ipython",
    "version": 3
   },
   "file_extension": ".py",
   "mimetype": "text/x-python",
   "name": "python",
   "nbconvert_exporter": "python",
   "pygments_lexer": "ipython3",
   "version": "3.12.7"
  }
 },
 "nbformat": 4,
 "nbformat_minor": 5
}
