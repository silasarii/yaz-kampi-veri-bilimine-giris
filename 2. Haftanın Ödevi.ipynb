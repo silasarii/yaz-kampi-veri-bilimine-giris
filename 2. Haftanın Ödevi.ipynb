{
 "cells": [
  {
   "cell_type": "markdown",
   "id": "1f6d4ce1-129a-4df6-976d-2c0f1584d7ff",
   "metadata": {
    "jp-MarkdownHeadingCollapsed": true
   },
   "source": [
    "# Soru 1 – Sayı Analizi\n",
    "\n",
    "## Kullanıcıdan bir sayı isteyin.\n",
    "#### • Sayı pozitif, negatif ya da sıfır mı kontrol edin.\n",
    "#### • Aynı zamanda tek/çift olup olmadığını da belirtin."
   ]
  },
  {
   "cell_type": "code",
   "execution_count": 13,
   "id": "0e9ec700-5da4-4765-a335-27f2befac418",
   "metadata": {},
   "outputs": [
    {
     "name": "stdin",
     "output_type": "stream",
     "text": [
      "Bir sayı giriniz:  -25\n"
     ]
    },
    {
     "name": "stdout",
     "output_type": "stream",
     "text": [
      "Girdiğiniz sayı Negatif ve Tek bir sayıdır \n"
     ]
    }
   ],
   "source": [
    "# Kullanıcıdan sayı alıyoruz \n",
    "sayi = int(input(\"Bir sayı giriniz: \"))\n",
    "\n",
    "# # Pozitif, negatif veya sıfır kontrolü yapıyoruz\n",
    "if sayi > 0:\n",
    "    durum = \"Pozitif\"\n",
    "elif sayi < 0:\n",
    "    durum = \"Negatif\"\n",
    "else:\n",
    "    durum = \"Sıfır\"\n",
    "\n",
    "# Tek/çift kontrolü yapıyoruz\n",
    "if sayi % 2 == 0:\n",
    "    tip = \"Çift\"\n",
    "else:\n",
    "    tip = \"Tek\"\n",
    "\n",
    "print(\"Girdiğiniz sayı {} ve {} bir sayıdır \".format(durum,tip))"
   ]
  },
  {
   "cell_type": "markdown",
   "id": "47153359-f58a-4b00-9a2b-3f2b86fed413",
   "metadata": {
    "jp-MarkdownHeadingCollapsed": true
   },
   "source": [
    "# Soru 2 – Harf Frekansı (String)\n",
    "\n",
    "## Kullanıcıdan bir kelime alın.\n",
    "#### • Hangi harften kaç tane geçtiğini bulun.\n",
    "#### • Sonucu dictionary olarak gösterin."
   ]
  },
  {
   "cell_type": "code",
   "execution_count": 63,
   "id": "48ddfc4a-bf69-4c74-9d61-b457d1a7802c",
   "metadata": {},
   "outputs": [
    {
     "name": "stdin",
     "output_type": "stream",
     "text": [
      "Bir kelime giriniz:  veri bilimi\n"
     ]
    },
    {
     "name": "stdout",
     "output_type": "stream",
     "text": [
      "{'v': 1, 'e': 1, 'r': 1, 'i': 4, ' ': 1, 'b': 1, 'l': 1, 'm': 1}\n"
     ]
    }
   ],
   "source": [
    "# Kullanıcıdan kelime alıyoruz\n",
    "kelime = input(\"Bir kelime giriniz: \")\n",
    "\n",
    "# Harf sayısını tutacak dictionary\n",
    "harf_sayilari = {}\n",
    "\n",
    "# Her harfi kontrol et\n",
    "for harf in kelime:\n",
    "    if harf in harf_sayilari:\n",
    "        harf_sayilari[harf] += 1\n",
    "    else:\n",
    "        harf_sayilari[harf] = 1\n",
    "\n",
    "print(harf_sayilari)"
   ]
  },
  {
   "cell_type": "markdown",
   "id": "1af7f682-6197-4992-bee1-5e3a2c1943f3",
   "metadata": {
    "jp-MarkdownHeadingCollapsed": true
   },
   "source": [
    "# Soru 3 – Şifre Kontrolü (String Metotları)\n",
    "\n",
    "## Kullanıcıdan şifre girmesini isteyin. Şifre:\n",
    "#### • En az 8 karakter olmalı\n",
    "#### • En az 1 büyük harf içermeli\n",
    "#### • En az 1 rakam içermeli\n",
    "## Koşulları sağlayıp sağlamadığına göre kullanıcıyı bilgilendirin."
   ]
  },
  {
   "cell_type": "code",
   "execution_count": 30,
   "id": "e8708462-e399-4e4b-a567-86947ccabe88",
   "metadata": {},
   "outputs": [
    {
     "name": "stdin",
     "output_type": "stream",
     "text": [
      "Şifrenizi giriniz:  2548Nk\n"
     ]
    },
    {
     "name": "stdout",
     "output_type": "stream",
     "text": [
      "Şifreniz geçersiz. Lütfen yeni şifre oluşturunuz.\n",
      "- En az 8 karakter olmalı\n"
     ]
    }
   ],
   "source": [
    "# Kullanıcıdan şifre alıyoruz\n",
    "sifre = input(\"Şifrenizi giriniz: \")\n",
    "\n",
    "# Kontrol ediyoruz\n",
    "uzunluk = len(sifre) >= 8\n",
    "buyuk_harf = False\n",
    "rakam = False\n",
    "\n",
    "# Her karakteri kontrol ediyoruz\n",
    "for ch in sifre:\n",
    "    if ch.isupper():   # Büyük harf var mı\n",
    "        buyuk_harf = True\n",
    "    if ch.isdigit():   # Rakam var mı\n",
    "        rakam = True\n",
    "# Sonucu ekrana yazdırıyoruz \n",
    "if uzunluk and buyuk_harf and rakam:\n",
    "    print(\"Şifreniz geçerli\")\n",
    "else:\n",
    "    print(\"Şifreniz geçersiz. Lütfen yeni şifre oluşturunuz.\")\n",
    "    if not uzunluk:\n",
    "        print(\"- En az 8 karakter olmalı\")\n",
    "    if not buyuk_harf:\n",
    "        print(\"- En az 1 büyük harf olmalı\")\n",
    "    if not rakam:\n",
    "        print(\"- En az 1 rakam olmalı\")"
   ]
  },
  {
   "cell_type": "markdown",
   "id": "856ce382-1178-464b-ab64-b9b2ff412969",
   "metadata": {
    "jp-MarkdownHeadingCollapsed": true
   },
   "source": [
    "# Soru 4 – Liste İşlemleri\n",
    "\n",
    "## [12, 4, 9, 25, 30, 7, 18] listesini kullanın.\n",
    "#### • Listenin ortalamasını bulun.\n",
    "#### • Ortalamadan büyük sayıları ayrı bir listeye atın.\n",
    "#### • Sonucu ekrana yazdırın."
   ]
  },
  {
   "cell_type": "code",
   "execution_count": 45,
   "id": "fe5a849b-b655-4b13-af3c-de764e575699",
   "metadata": {},
   "outputs": [
    {
     "name": "stdout",
     "output_type": "stream",
     "text": [
      "Ortalama: 15.0\n",
      "Ortalamadan büyük sayılar: [25, 30, 18]\n"
     ]
    }
   ],
   "source": [
    "liste = [12, 4, 9, 25, 30, 7, 18]\n",
    "\n",
    "# Ortalama hesaplıyoruz\n",
    "ortalama = sum(liste) / len(liste)\n",
    "print(\"Ortalama:\", ortalama)\n",
    "\n",
    "# Ortalamadan büyük sayıları buluyoruz\n",
    "buyukler = []  \n",
    "for liste in liste:\n",
    "    if liste > ortalama: \n",
    "        buyukler.append(liste)\n",
    "\n",
    "print(\"Ortalamadan büyük sayılar:\", buyukler)"
   ]
  },
  {
   "cell_type": "markdown",
   "id": "e9732ab4-fdff-4259-9dd4-6c4bede31ad6",
   "metadata": {
    "jp-MarkdownHeadingCollapsed": true
   },
   "source": [
    "# Soru 5 – Nested Loop (Desen)\n",
    "\n",
    "## Aşağıdaki çıktıyı üreten programı yazın (üçgen desen):\n",
    "#### *\n",
    "#### **\n",
    "#### ***\n",
    "#### ****\n",
    "#### *****"
   ]
  },
  {
   "cell_type": "code",
   "execution_count": 48,
   "id": "11047e1a-6548-4af8-985d-37b6d6f55e2c",
   "metadata": {},
   "outputs": [
    {
     "name": "stdout",
     "output_type": "stream",
     "text": [
      "*\n",
      "**\n",
      "***\n",
      "****\n",
      "*****\n"
     ]
    }
   ],
   "source": [
    "# Satır sayısını belirliyoruz \n",
    "satir = 5\n",
    "\n",
    "# Her satır için döngü oluşturuyoruz \n",
    "for i in range(1, satir + 1):\n",
    "    print(\"*\" * i) "
   ]
  },
  {
   "cell_type": "markdown",
   "id": "8dc85332-1b3b-49c2-a63a-394b5501e437",
   "metadata": {
    "jp-MarkdownHeadingCollapsed": true
   },
   "source": [
    "# Soru 6 – While Döngüsü\n",
    "## Kullanıcıdan sürekli sayı isteyin.\n",
    "## • Kullanıcı 0 girdiğinde program dursun.\n",
    "## • Girilen tüm sayıların toplamını ve ortalamasını yazdırın."
   ]
  },
  {
   "cell_type": "code",
   "execution_count": 55,
   "id": "ede26d02-7dba-4903-bd12-c3be38ece111",
   "metadata": {},
   "outputs": [
    {
     "name": "stdin",
     "output_type": "stream",
     "text": [
      "Bir sayı giriniz:  3\n",
      "Bir sayı giriniz:  3\n",
      "Bir sayı giriniz:  5\n",
      "Bir sayı giriniz:  5\n",
      "Bir sayı giriniz:  0\n"
     ]
    },
    {
     "name": "stdout",
     "output_type": "stream",
     "text": [
      "Toplam: 16\n",
      "Ortalama: 4.0\n"
     ]
    }
   ],
   "source": [
    "# Toplam ve sayacı başlatıyoruz \n",
    "toplam = 0\n",
    "adet = 0\n",
    "\n",
    "while True:\n",
    "    sayi = int(input(\"Bir sayı giriniz: \"))\n",
    "    \n",
    "    if sayi == 0: \n",
    "        break\n",
    "    \n",
    "    toplam += sayi \n",
    "    adet += 1      \n",
    "\n",
    "# Ortalamayı hesaplıyoruz \n",
    "if adet > 0:\n",
    "    ortalama = toplam / adet\n",
    "    print(\"Toplam:\", toplam)\n",
    "    print(\"Ortalama:\", ortalama)\n",
    "else:\n",
    "    print(\"Hiç sayı girilmedi.\")"
   ]
  },
  {
   "cell_type": "markdown",
   "id": "73525e87-f172-4af4-b1c3-3d1b130e2601",
   "metadata": {
    "jp-MarkdownHeadingCollapsed": true
   },
   "source": [
    "# Soru 7 – Palindrom Kontrolü\n",
    "\n",
    "## Kullanıcıdan bir kelime isteyin.\n",
    "#### • Kelimenin palindrom olup olmadığını kontrol edin."
   ]
  },
  {
   "cell_type": "code",
   "execution_count": 71,
   "id": "43b757e5-c1cb-4ea5-9e08-5f2e87502d29",
   "metadata": {},
   "outputs": [
    {
     "name": "stdin",
     "output_type": "stream",
     "text": [
      "Bir kelime giriniz:  radar\n"
     ]
    },
    {
     "name": "stdout",
     "output_type": "stream",
     "text": [
      "Palindrom\n"
     ]
    }
   ],
   "source": [
    "# Kullanıcıdan kelime alıyoruz\n",
    "kelime = input(\"Bir kelime giriniz: \")\n",
    "\n",
    "# Küçük harfe çeviriyoruz\n",
    "kelime = kelime.lower()\n",
    "\n",
    "# Kelimenin tersini alıyoruz\n",
    "ters_kelime = kelime[::-1]\n",
    "\n",
    "# Karşılaştırma yapıyoruz \n",
    "if kelime == ters_kelime:\n",
    "    print(\"Palindrom\")\n",
    "else:\n",
    "    print(\"Palindrom değil\")"
   ]
  },
  {
   "cell_type": "markdown",
   "id": "2c19f1a3-22f9-4b04-9fe2-1ef9d3240c74",
   "metadata": {
    "jp-MarkdownHeadingCollapsed": true
   },
   "source": [
    "# Soru 8 – List Comprehension\n",
    "\n",
    "## 1’den 100’e kadar olan sayılardan:\n",
    "#### • Hem 3’e hem 5’e bölünebilenlerin karelerini içeren bir liste oluşturun.\n",
    "#### • Sonucu ekrana yazdırın."
   ]
  },
  {
   "cell_type": "code",
   "execution_count": 74,
   "id": "afdb58f8-dafe-49a5-a58a-ea9b16122c97",
   "metadata": {},
   "outputs": [
    {
     "name": "stdout",
     "output_type": "stream",
     "text": [
      "[225, 900, 2025, 3600, 5625, 8100]\n"
     ]
    }
   ],
   "source": [
    "# Boş liste oluşturuyoruz\n",
    "kareler = []\n",
    "\n",
    "# 1'den 100'e kadar sayıları kontrol ediyoruz\n",
    "for sayi in range(1, 101):\n",
    "    if sayi % 3 == 0 and sayi % 5 == 0:  \n",
    "        kareler.append(sayi ** 2)       \n",
    "\n",
    "print(kareler)"
   ]
  },
  {
   "cell_type": "markdown",
   "id": "73396d2a-3024-48c5-a7c8-3f3524d8c7e2",
   "metadata": {},
   "source": [
    "# Soru 9 – String İşlemleri\n",
    "\n",
    "## Bir cümle alın.\n",
    "### • Cümledeki kelimeleri split() ile ayırın.\n",
    "### • Her kelimenin ilk harfini büyük yaparak yeni bir string oluşturun."
   ]
  },
  {
   "cell_type": "code",
   "execution_count": 77,
   "id": "4fce55ec-1bd4-4e90-9d13-160a6063d35f",
   "metadata": {},
   "outputs": [
    {
     "name": "stdin",
     "output_type": "stream",
     "text": [
      "Bir cümle giriniz:  veri bilimi harika \n"
     ]
    },
    {
     "name": "stdout",
     "output_type": "stream",
     "text": [
      "Veri Bilimi Harika\n"
     ]
    }
   ],
   "source": [
    "# Kullanıcıdan cümle alıyoruz\n",
    "cumle = input(\"Bir cümle giriniz: \")\n",
    "\n",
    "# Kelimeleri ayırıyoruz\n",
    "kelimeler = cumle.split()\n",
    "\n",
    "# Her kelimenin ilk harfini büyük yapıyoruz\n",
    "yeni_kelime_listesi = []\n",
    "for kelime in kelimeler:\n",
    "    yeni_kelime_listesi.append(kelime.capitalize())\n",
    "\n",
    "# Listeyi tekrar cümle haline getiriyoruz\n",
    "yeni_cumle = \" \".join(yeni_kelime_listesi)\n",
    "\n",
    "print(yeni_cumle)"
   ]
  }
 ],
 "metadata": {
  "kernelspec": {
   "display_name": "Python [conda env:base] *",
   "language": "python",
   "name": "conda-base-py"
  },
  "language_info": {
   "codemirror_mode": {
    "name": "ipython",
    "version": 3
   },
   "file_extension": ".py",
   "mimetype": "text/x-python",
   "name": "python",
   "nbconvert_exporter": "python",
   "pygments_lexer": "ipython3",
   "version": "3.12.7"
  }
 },
 "nbformat": 4,
 "nbformat_minor": 5
}
