{
 "cells": [
  {
   "cell_type": "code",
   "execution_count": 170,
   "id": "69fd137d-04f0-480e-bfa5-f4840b00be75",
   "metadata": {},
   "outputs": [],
   "source": [
    "import numpy as np\n",
    "import pandas as pd\n",
    "import matplotlib.pyplot as plt\n",
    "import seaborn as sns"
   ]
  },
  {
   "cell_type": "markdown",
   "id": "86f3b5f9-cdd0-4feb-8ed7-05b32a749144",
   "metadata": {},
   "source": [
    "# Numpy Bölümü"
   ]
  },
  {
   "cell_type": "markdown",
   "id": "0b215252-4ea0-48b0-be36-6583341b2298",
   "metadata": {},
   "source": [
    "#### Numpy ile Matris İşlemleri\n",
    "##### - 5x5 boyutunda rastgele (0-100 arasında) tam sayılardan oluşan bir matris oluşturun.\n",
    "##### - Bu matrisin:\n",
    "######  • Ortalama, standart sapma ve varyansını hesaplayın.\n",
    "######  • En büyük ve en küçük değerlerini bulun.\n",
    "######  • Köşegenindeki elemanların toplamını bulun."
   ]
  },
  {
   "cell_type": "code",
   "execution_count": 174,
   "id": "928b72ba-dab0-4e8d-9234-f7837f6cc919",
   "metadata": {},
   "outputs": [
    {
     "name": "stdout",
     "output_type": "stream",
     "text": [
      "Matris:\n",
      " [[99 37 92 74 87]\n",
      " [11 29 30 82 32]\n",
      " [44 43 41 29 81]\n",
      " [ 3 29 13 11 44]\n",
      " [60 25 38 65 67]]\n",
      "\n",
      "Ortalama: 46.64\n",
      "Standart Sapma: 27.00648810934143\n",
      "Varyans: 729.3504\n",
      "\n",
      "En Büyük Değer: 99\n",
      "En Küçük Değer: 3\n",
      "\n",
      "Köşegen Toplamı: 247\n"
     ]
    }
   ],
   "source": [
    "# 5x5 boyutunda 0-100 arasında rastgele tam sayılardan oluşan matris oluşturalım\n",
    "matris = np.random.randint(0,101,(5,5))\n",
    "print(\"Matris:\\n\", matris)\n",
    "\n",
    "# Ortalama, standart sapma, varyans değerlerini hesaplayalım \n",
    "ortalama = np.mean(matris)\n",
    "std_sapma = np.std(matris)\n",
    "varyans = np.var(matris)\n",
    "\n",
    "print(\"\\nOrtalama:\", ortalama)\n",
    "print(\"Standart Sapma:\", std_sapma)\n",
    "print(\"Varyans:\", varyans)\n",
    "\n",
    "# En büyük ve en küçük değerleri bulalım\n",
    "en_buyuk = np.max(matris)\n",
    "en_kucuk = np.min(matris)\n",
    "\n",
    "print(\"\\nEn Büyük Değer:\", en_buyuk)\n",
    "print(\"En Küçük Değer:\", en_kucuk)\n",
    "\n",
    "# Köşegen elemanlarının toplamını bulalım\n",
    "kosegen_toplam = np.trace(matris)\n",
    "print(\"\\nKöşegen Toplamı:\", kosegen_toplam)"
   ]
  },
  {
   "cell_type": "markdown",
   "id": "e66cf59c-c688-4878-a992-bfd8ab3b61c0",
   "metadata": {},
   "source": [
    "#### Numpy ile Veri Simülasyonu\n",
    "##### 1000 adet öğrencinin sınav puanlarını (0-100 arası, normal dağılımdan gelen) simüle edin.\n",
    "###### - Ortalama, medyan ve standart sapmayı hesaplayın.\n",
    "###### - 50’den düşük alan kaç öğrenci olduğunu bulun."
   ]
  },
  {
   "cell_type": "code",
   "execution_count": 177,
   "id": "e61f7e9d-6237-41ac-978d-6dae9c1827b5",
   "metadata": {},
   "outputs": [
    {
     "name": "stdout",
     "output_type": "stream",
     "text": [
      "Ortalama: 50.1492884856374\n",
      "Medyan: 49.79021658926912\n",
      "Standart Sapma: 15.00444002351262\n",
      "50’den düşük alan öğrenci sayısı: 510\n"
     ]
    }
   ],
   "source": [
    "# 1000 öğrencinin sınav puanlarını normal dağılımdan üretelim\n",
    "# Ortalama = 50, Standart Sapma = 15\n",
    "puanlar = np.random.normal(loc=50, scale=15, size=1000)\n",
    "\n",
    "# Puanları 0-100 aralığına kısıtlayalım\n",
    "puanlar = np.clip(puanlar, 0, 100)\n",
    "\n",
    "# Ortalama, medyan ve standart sapma hesaplayalım\n",
    "ortalama = np.mean(puanlar)\n",
    "medyan = np.median(puanlar)\n",
    "std_sapma = np.std(puanlar)\n",
    "\n",
    "# 50’den düşük alan kaç öğrenci var bulalım\n",
    "elli_altinda = np.sum(puanlar < 50)\n",
    "\n",
    "print(\"Ortalama:\", ortalama)\n",
    "print(\"Medyan:\", medyan)\n",
    "print(\"Standart Sapma:\", std_sapma)\n",
    "print(\"50’den düşük alan öğrenci sayısı:\", elli_altinda)"
   ]
  },
  {
   "cell_type": "markdown",
   "id": "963bf3f1-05e5-47d8-bcde-7bd8cd5dd403",
   "metadata": {},
   "source": [
    "# Pandas Bölümü"
   ]
  },
  {
   "cell_type": "markdown",
   "id": "04b3bcb5-a3ff-4dac-8610-40938e8243aa",
   "metadata": {},
   "source": [
    "#### • Görevler:\n",
    "##### 1. Veri setini Pandas DataFrame olarak oluşturun.\n",
    "##### 2. Her ders için ortalama puanı bulun.\n",
    "##### 3. En yüksek matematik notunu alan öğrenciyi bulun.\n",
    "##### 4. Her öğrencinin not ortalamasını hesaplayan yeni bir sütun ekleyin.\n",
    "##### 5. Bölümlere göre gruplayarak her bölümün ortalama başarılarını hesaplayın.\n",
    "##### 6. Ortalaması 70’in üzerinde olan öğrencileri filtreleyin."
   ]
  },
  {
   "cell_type": "code",
   "execution_count": 181,
   "id": "cb28de86-0b16-497a-857f-ea3dc4846062",
   "metadata": {},
   "outputs": [
    {
     "data": {
      "text/html": [
       "<div>\n",
       "<style scoped>\n",
       "    .dataframe tbody tr th:only-of-type {\n",
       "        vertical-align: middle;\n",
       "    }\n",
       "\n",
       "    .dataframe tbody tr th {\n",
       "        vertical-align: top;\n",
       "    }\n",
       "\n",
       "    .dataframe thead th {\n",
       "        text-align: right;\n",
       "    }\n",
       "</style>\n",
       "<table border=\"1\" class=\"dataframe\">\n",
       "  <thead>\n",
       "    <tr style=\"text-align: right;\">\n",
       "      <th></th>\n",
       "      <th>Öğrenci</th>\n",
       "      <th>Yaş</th>\n",
       "      <th>Bölüm</th>\n",
       "      <th>Matematik</th>\n",
       "      <th>Fizik</th>\n",
       "      <th>Kimya</th>\n",
       "    </tr>\n",
       "  </thead>\n",
       "  <tbody>\n",
       "    <tr>\n",
       "      <th>0</th>\n",
       "      <td>Ali</td>\n",
       "      <td>20</td>\n",
       "      <td>Bilgisayar</td>\n",
       "      <td>70</td>\n",
       "      <td>65</td>\n",
       "      <td>80</td>\n",
       "    </tr>\n",
       "    <tr>\n",
       "      <th>1</th>\n",
       "      <td>Ayşe</td>\n",
       "      <td>21</td>\n",
       "      <td>Fizik</td>\n",
       "      <td>60</td>\n",
       "      <td>75</td>\n",
       "      <td>85</td>\n",
       "    </tr>\n",
       "    <tr>\n",
       "      <th>2</th>\n",
       "      <td>Mehmet</td>\n",
       "      <td>19</td>\n",
       "      <td>Kimya</td>\n",
       "      <td>80</td>\n",
       "      <td>70</td>\n",
       "      <td>65</td>\n",
       "    </tr>\n",
       "    <tr>\n",
       "      <th>3</th>\n",
       "      <td>Zeynep</td>\n",
       "      <td>22</td>\n",
       "      <td>Bilgisayar</td>\n",
       "      <td>90</td>\n",
       "      <td>85</td>\n",
       "      <td>95</td>\n",
       "    </tr>\n",
       "    <tr>\n",
       "      <th>4</th>\n",
       "      <td>Ahmet</td>\n",
       "      <td>20</td>\n",
       "      <td>Fizik</td>\n",
       "      <td>55</td>\n",
       "      <td>60</td>\n",
       "      <td>70</td>\n",
       "    </tr>\n",
       "  </tbody>\n",
       "</table>\n",
       "</div>"
      ],
      "text/plain": [
       "  Öğrenci  Yaş       Bölüm  Matematik  Fizik  Kimya\n",
       "0     Ali   20  Bilgisayar         70     65     80\n",
       "1    Ayşe   21       Fizik         60     75     85\n",
       "2  Mehmet   19       Kimya         80     70     65\n",
       "3  Zeynep   22  Bilgisayar         90     85     95\n",
       "4   Ahmet   20       Fizik         55     60     70"
      ]
     },
     "execution_count": 181,
     "metadata": {},
     "output_type": "execute_result"
    }
   ],
   "source": [
    "#  DataFrame oluşturalım\n",
    "data = {\n",
    "    \"Öğrenci\": [\"Ali\", \"Ayşe\", \"Mehmet\", \"Zeynep\", \"Ahmet\"],\n",
    "    \"Yaş\": [20, 21, 19, 22, 20],\n",
    "    \"Bölüm\": [\"Bilgisayar\", \"Fizik\", \"Kimya\", \"Bilgisayar\", \"Fizik\"],\n",
    "    \"Matematik\": [70, 60, 80, 90, 55],\n",
    "    \"Fizik\": [65, 75, 70, 85, 60],\n",
    "    \"Kimya\": [80, 85, 65, 95, 70]\n",
    "}\n",
    "df = pd.DataFrame(data)\n",
    "df"
   ]
  },
  {
   "cell_type": "code",
   "execution_count": 182,
   "id": "b390bdae-3ea9-4aab-b16a-75113d102cae",
   "metadata": {},
   "outputs": [
    {
     "data": {
      "text/plain": [
       "Matematik    71.0\n",
       "Fizik        71.0\n",
       "Kimya        79.0\n",
       "dtype: float64"
      ]
     },
     "execution_count": 182,
     "metadata": {},
     "output_type": "execute_result"
    }
   ],
   "source": [
    "# Her ders için ortalama puanı bulalım\n",
    "ders_ortalamalari = df[[\"Matematik\", \"Fizik\", \"Kimya\"]].mean()\n",
    "ders_ortalamalari"
   ]
  },
  {
   "cell_type": "code",
   "execution_count": 185,
   "id": "9c5669b0-5e6e-4372-b9e7-f9a2053c2e9f",
   "metadata": {},
   "outputs": [
    {
     "data": {
      "text/plain": [
       "'Zeynep'"
      ]
     },
     "execution_count": 185,
     "metadata": {},
     "output_type": "execute_result"
    }
   ],
   "source": [
    "# En yüksek matematik notunu alan öğrenciyi bulalım \n",
    "en_yuksek_mat = df.loc[df[\"Matematik\"].idxmax(), \"Öğrenci\"]\n",
    "en_yuksek_mat"
   ]
  },
  {
   "cell_type": "code",
   "execution_count": 187,
   "id": "7fc1737f-dbda-4693-b628-a220eacee49d",
   "metadata": {},
   "outputs": [
    {
     "data": {
      "text/html": [
       "<div>\n",
       "<style scoped>\n",
       "    .dataframe tbody tr th:only-of-type {\n",
       "        vertical-align: middle;\n",
       "    }\n",
       "\n",
       "    .dataframe tbody tr th {\n",
       "        vertical-align: top;\n",
       "    }\n",
       "\n",
       "    .dataframe thead th {\n",
       "        text-align: right;\n",
       "    }\n",
       "</style>\n",
       "<table border=\"1\" class=\"dataframe\">\n",
       "  <thead>\n",
       "    <tr style=\"text-align: right;\">\n",
       "      <th></th>\n",
       "      <th>Öğrenci</th>\n",
       "      <th>Ortalama</th>\n",
       "    </tr>\n",
       "  </thead>\n",
       "  <tbody>\n",
       "    <tr>\n",
       "      <th>0</th>\n",
       "      <td>Ali</td>\n",
       "      <td>71.666667</td>\n",
       "    </tr>\n",
       "    <tr>\n",
       "      <th>1</th>\n",
       "      <td>Ayşe</td>\n",
       "      <td>73.333333</td>\n",
       "    </tr>\n",
       "    <tr>\n",
       "      <th>2</th>\n",
       "      <td>Mehmet</td>\n",
       "      <td>71.666667</td>\n",
       "    </tr>\n",
       "    <tr>\n",
       "      <th>3</th>\n",
       "      <td>Zeynep</td>\n",
       "      <td>90.000000</td>\n",
       "    </tr>\n",
       "    <tr>\n",
       "      <th>4</th>\n",
       "      <td>Ahmet</td>\n",
       "      <td>61.666667</td>\n",
       "    </tr>\n",
       "  </tbody>\n",
       "</table>\n",
       "</div>"
      ],
      "text/plain": [
       "  Öğrenci   Ortalama\n",
       "0     Ali  71.666667\n",
       "1    Ayşe  73.333333\n",
       "2  Mehmet  71.666667\n",
       "3  Zeynep  90.000000\n",
       "4   Ahmet  61.666667"
      ]
     },
     "execution_count": 187,
     "metadata": {},
     "output_type": "execute_result"
    }
   ],
   "source": [
    "# Her öğrencinin not ortalamasını bulalım\n",
    "df[\"Ortalama\"] = df[[\"Matematik\", \"Fizik\", \"Kimya\"]].mean(axis=1)\n",
    "ortalama_df = df[[\"Öğrenci\", \"Ortalama\"]]\n",
    "ortalama_df"
   ]
  },
  {
   "cell_type": "code",
   "execution_count": 189,
   "id": "6f4e273d-ac5d-402a-b35e-8ee16a21e4e6",
   "metadata": {},
   "outputs": [
    {
     "data": {
      "text/html": [
       "<div>\n",
       "<style scoped>\n",
       "    .dataframe tbody tr th:only-of-type {\n",
       "        vertical-align: middle;\n",
       "    }\n",
       "\n",
       "    .dataframe tbody tr th {\n",
       "        vertical-align: top;\n",
       "    }\n",
       "\n",
       "    .dataframe thead th {\n",
       "        text-align: right;\n",
       "    }\n",
       "</style>\n",
       "<table border=\"1\" class=\"dataframe\">\n",
       "  <thead>\n",
       "    <tr style=\"text-align: right;\">\n",
       "      <th></th>\n",
       "      <th>Matematik</th>\n",
       "      <th>Fizik</th>\n",
       "      <th>Kimya</th>\n",
       "      <th>Ortalama</th>\n",
       "    </tr>\n",
       "    <tr>\n",
       "      <th>Bölüm</th>\n",
       "      <th></th>\n",
       "      <th></th>\n",
       "      <th></th>\n",
       "      <th></th>\n",
       "    </tr>\n",
       "  </thead>\n",
       "  <tbody>\n",
       "    <tr>\n",
       "      <th>Bilgisayar</th>\n",
       "      <td>80.0</td>\n",
       "      <td>75.0</td>\n",
       "      <td>87.5</td>\n",
       "      <td>80.833333</td>\n",
       "    </tr>\n",
       "    <tr>\n",
       "      <th>Fizik</th>\n",
       "      <td>57.5</td>\n",
       "      <td>67.5</td>\n",
       "      <td>77.5</td>\n",
       "      <td>67.500000</td>\n",
       "    </tr>\n",
       "    <tr>\n",
       "      <th>Kimya</th>\n",
       "      <td>80.0</td>\n",
       "      <td>70.0</td>\n",
       "      <td>65.0</td>\n",
       "      <td>71.666667</td>\n",
       "    </tr>\n",
       "  </tbody>\n",
       "</table>\n",
       "</div>"
      ],
      "text/plain": [
       "            Matematik  Fizik  Kimya   Ortalama\n",
       "Bölüm                                         \n",
       "Bilgisayar       80.0   75.0   87.5  80.833333\n",
       "Fizik            57.5   67.5   77.5  67.500000\n",
       "Kimya            80.0   70.0   65.0  71.666667"
      ]
     },
     "execution_count": 189,
     "metadata": {},
     "output_type": "execute_result"
    }
   ],
   "source": [
    "# Bölümlere göre ortalama başarıyı bulalım\n",
    "bolum_ort = df.groupby(\"Bölüm\")[[\"Matematik\", \"Fizik\", \"Kimya\", \"Ortalama\"]].mean()\n",
    "bolum_ort"
   ]
  },
  {
   "cell_type": "code",
   "execution_count": 191,
   "id": "3c5718e7-48f4-49a2-aa96-78035ba1e80d",
   "metadata": {},
   "outputs": [
    {
     "data": {
      "text/html": [
       "<div>\n",
       "<style scoped>\n",
       "    .dataframe tbody tr th:only-of-type {\n",
       "        vertical-align: middle;\n",
       "    }\n",
       "\n",
       "    .dataframe tbody tr th {\n",
       "        vertical-align: top;\n",
       "    }\n",
       "\n",
       "    .dataframe thead th {\n",
       "        text-align: right;\n",
       "    }\n",
       "</style>\n",
       "<table border=\"1\" class=\"dataframe\">\n",
       "  <thead>\n",
       "    <tr style=\"text-align: right;\">\n",
       "      <th></th>\n",
       "      <th>Öğrenci</th>\n",
       "      <th>Yaş</th>\n",
       "      <th>Bölüm</th>\n",
       "      <th>Matematik</th>\n",
       "      <th>Fizik</th>\n",
       "      <th>Kimya</th>\n",
       "      <th>Ortalama</th>\n",
       "    </tr>\n",
       "  </thead>\n",
       "  <tbody>\n",
       "    <tr>\n",
       "      <th>0</th>\n",
       "      <td>Ali</td>\n",
       "      <td>20</td>\n",
       "      <td>Bilgisayar</td>\n",
       "      <td>70</td>\n",
       "      <td>65</td>\n",
       "      <td>80</td>\n",
       "      <td>71.666667</td>\n",
       "    </tr>\n",
       "    <tr>\n",
       "      <th>1</th>\n",
       "      <td>Ayşe</td>\n",
       "      <td>21</td>\n",
       "      <td>Fizik</td>\n",
       "      <td>60</td>\n",
       "      <td>75</td>\n",
       "      <td>85</td>\n",
       "      <td>73.333333</td>\n",
       "    </tr>\n",
       "    <tr>\n",
       "      <th>2</th>\n",
       "      <td>Mehmet</td>\n",
       "      <td>19</td>\n",
       "      <td>Kimya</td>\n",
       "      <td>80</td>\n",
       "      <td>70</td>\n",
       "      <td>65</td>\n",
       "      <td>71.666667</td>\n",
       "    </tr>\n",
       "    <tr>\n",
       "      <th>3</th>\n",
       "      <td>Zeynep</td>\n",
       "      <td>22</td>\n",
       "      <td>Bilgisayar</td>\n",
       "      <td>90</td>\n",
       "      <td>85</td>\n",
       "      <td>95</td>\n",
       "      <td>90.000000</td>\n",
       "    </tr>\n",
       "  </tbody>\n",
       "</table>\n",
       "</div>"
      ],
      "text/plain": [
       "  Öğrenci  Yaş       Bölüm  Matematik  Fizik  Kimya   Ortalama\n",
       "0     Ali   20  Bilgisayar         70     65     80  71.666667\n",
       "1    Ayşe   21       Fizik         60     75     85  73.333333\n",
       "2  Mehmet   19       Kimya         80     70     65  71.666667\n",
       "3  Zeynep   22  Bilgisayar         90     85     95  90.000000"
      ]
     },
     "execution_count": 191,
     "metadata": {},
     "output_type": "execute_result"
    }
   ],
   "source": [
    "# Ortalaması 70’in üzerinde olan öğrencileri bulalım \n",
    "basarili_ogr = df[df[\"Ortalama\"] > 70]\n",
    "basarili_ogr"
   ]
  },
  {
   "cell_type": "markdown",
   "id": "9b13dce0-67bb-4b75-9d6b-aeb002c7d832",
   "metadata": {},
   "source": [
    "# Ek Görev "
   ]
  },
  {
   "cell_type": "markdown",
   "id": "76eac160-d442-431e-95f4-ada25e103ce6",
   "metadata": {},
   "source": [
    "#### Matplotlib veya Seaborn kullanarak:\n",
    "##### • Her dersin dağılımını histogram ile gösterin.\n",
    "##### • Bölümlere göre ortalamaları bar grafikte görselleştirin."
   ]
  },
  {
   "cell_type": "code",
   "execution_count": 195,
   "id": "3e87de6f-13cc-4d33-bad2-a134c78e7f9c",
   "metadata": {},
   "outputs": [
    {
     "data": {
      "image/png": "[encoded data removed]",
      "text/plain": [
       "<Figure size 1200x400 with 3 Axes>"
      ]
     },
     "metadata": {},
     "output_type": "display_data"
    }
   ],
   "source": [
    "# Histogram: Derslerin puan dağılımı\n",
    "plt.figure(figsize=(12, 4))\n",
    "dersler = [\"Matematik\", \"Fizik\", \"Kimya\"]\n",
    "\n",
    "for i, ders in enumerate(dersler):\n",
    "    plt.subplot(1, 3, i+1)\n",
    "    sns.histplot(df[ders], bins=5, kde=True, color='skyblue')\n",
    "    plt.title(f\"{ders} Dağılımı\")\n",
    "    plt.xlabel(\"Puan\")\n",
    "    plt.ylabel(\"Öğrenci Sayısı\")\n",
    "\n",
    "plt.tight_layout()\n",
    "plt.show()\n"
   ]
  },
  {
   "cell_type": "code",
   "execution_count": 196,
   "id": "b0d168a3-dd40-490c-971e-061cb93e30b1",
   "metadata": {},
   "outputs": [
    {
     "data": {
      "image/png": "[encoded data removed]",
      "text/plain": [
       "<Figure size 800x500 with 1 Axes>"
      ]
     },
     "metadata": {},
     "output_type": "display_data"
    }
   ],
   "source": [
    "# Bar Grafiği: Bölümlere göre ortalama başarı\n",
    "bolum_ort = df.groupby(\"Bölüm\")[[\"Ortalama\"]].mean()\n",
    "\n",
    "bolum_ort.plot(kind='bar', figsize=(8, 5), color='salmon')\n",
    "plt.title(\"Bölümlere Göre Ortalama Başarı\")\n",
    "plt.ylabel(\"Ortalama Puan\")\n",
    "plt.xticks(rotation=0)\n",
    "plt.ylim(0, 100) \n",
    "plt.show()"
   ]
  }
 ],
 "metadata": {
  "kernelspec": {
   "display_name": "Python [conda env:base] *",
   "language": "python",
   "name": "conda-base-py"
  },
  "language_info": {
   "codemirror_mode": {
    "name": "ipython",
    "version": 3
   },
   "file_extension": ".py",
   "mimetype": "text/x-python",
   "name": "python",
   "nbconvert_exporter": "python",
   "pygments_lexer": "ipython3",
   "version": "3.12.7"
  }
 },
 "nbformat": 4,
 "nbformat_minor": 5
}
